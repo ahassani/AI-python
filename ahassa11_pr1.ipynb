{
 "metadata": {
  "name": "ahassa11_PR1"
 }, 
 "name": "ahassa11_PR1", 
 "nbformat": 2, 
 "worksheets": [
  {
   "cells": [
    {
     "cell_type": "markdown", 
     "source": "Standard imports and startup code pilfered from previous notebook:"
    }, 
    {
     "cell_type": "markdown", 
     "source": "Programming Assignment #1\n=\nThis is the notebook for Programming Assignment #1.\n\nHere are a few tips for using the iPython HTML notebook:\n\n1.  You can change the type of cell by picking \"Code\" or \"Markdown\" from the menu at the left.\n2.  If you keep typing in a Markdown text area, you will eventually get scroll bars. To prevent this, hit return when you come to\nthe end of the window. Only a double return creates a new paragraph.\n3.  You can find out more about Markdown text here: http://daringfireball.net/projects/markdown/ (Copy this link and put it \nin another tab for reference--Don't click it or you'll leave your notebook!).\n4.  Every so often, restart the kernel, clear all output and run all code cells so you can be certain that you didn't\ndefine something out of order.\n\nPlease read the programming assignment description for more details.\n\n**You should rename this notebook to be &lt;your JHED id>\\_PR1.ipynb** Do it right now.\n\n**Make certain the entire notebook executes before you submit it.** (See Hint #4 above)\n\nYou should both print this notebook using the print function to the right and submit it through Sakai.\n\nChange the following variables:"
    }, 
    {
     "cell_type": "code", 
     "collapsed": true, 
     "input": "name = \"Amir Hassani\"\njhed_id = \"ahassa11\"\nif name == \"Student Name\" or jhed_id == \"sname1\":\n    raise Exception( \"Change the name and/or JHED ID...preferrably to yours.\")", 
     "language": "python", 
     "outputs": [], 
     "prompt_number": 37
    }, 
    {
     "cell_type": "markdown", 
     "source": "Add whatever additional imports you require here. Stick with the standard libraries and those required by the class. The import\ngives you access to these functions: http://ipython.org/ipython-doc/stable/api/generated/IPython.core.display.html (Copy this link)\nWhich, among other things, will permit you to display HTML as the result of evaluated code (see HTML() or display_html())."
    }, 
    {
     "cell_type": "markdown", 
     "source": "Setup the problem by reading in the map and creating the graph between the different states."
    }, 
    {
     "cell_type": "code", 
     "collapsed": false, 
     "input": "import random\nimport math\n\nfrom IPython.core.display import *\n\nworld = \"\"\"\n.....**********............\n.......*********..xxxxxxx..\n....xx***********xxx^^^xx^^\n....^xxx****~~*****..^^xx^.\n...^^xx**..~~~~***...^xxx^.\n.^^^xx^^....~~~~~.....^x^..\n.^^xx^^....^xxx~~~.....^...\n..^^^^^......^xxx~~~..^^^..\n...^^^......^^xx.~~..^^^...\n...~~~..^^^xxxx...~.^^^....\n..~~~~~.^^xxx^.....^xxx^...\n.~~~~~..^xx^....~~..^xx^...\n~~~~~..^^xx^.~~~~...^x^....\n.~~~~..^**^....~~~~..^.....\n....x..****^^^^.~~~..^x^...\n...xxx******xxx^^.~.^xx^...\n..xx**********xxx..xxx.....\n...xx***********xxxx.......\n...xxx********...^^........\n....xxx******..........~~~~\n..^^^^xx*****.x.....~~~~~~~\n....^^^xxx**xx......~~~~~~~\n......^^^xxxx....^^..~~~~~~\n.^^..^^^^^.....^^xx^^.~~~~~\n^x^^^^.....xxx^^xx.xx^^~~~~\n^xxx^.....^^xxxx^^^^xxx~~~~\n^^..........^^^^^....^^^...\n\"\"\"\n \ndef getWeight(character):\n    if col == '.':\n        weight = 1\n    elif col == '*':\n        weight = 3\n    elif col == '^':\n        weight = 5\n    elif col == '~':\n        weight = 7\n    else:\n        weight = 0\n    return weight\n\nstate_count = 0\n\ndef getStateNum(weight):\n    global state_count\n    if weight == 0: \n        return 0\n    state_count +=1\n    return state_count\n    \nworldTable = [ list(line)  for line in world.split(\"\\n\") if len(line) > 0]\n#print worldTable\n\nworldTableWeight  = [ [  getWeight(col) for col in row]  for row in worldTable]\n#print worldTableWeight\n\nworldTableStateNum = [ [ getStateNum(col) for col in row]  for row in worldTableWeight]\n#print worldTableStateNum\n\nnumber_of_cols = len(worldTable[0]);\nnumber_of_rows = len(worldTable);\n\ngraph = {}\n\nraw_positions = {}\n\nfor row in range( 0, number_of_rows):\n    for col in range( 0, number_of_cols):\n        \n        if  worldTableWeight[ row][ col] != 0:\n            \n            graph[worldTableStateNum[ row][ col]] = []\n                           \n            raw_positions[worldTableStateNum[ row][ col]] = [ row, col]\n            \n            if col > 0 and worldTableWeight[ row][ col - 1] > 0:\n                graph[ worldTableStateNum[ row][ col]].append( ( worldTableStateNum[ row][ col - 1], worldTableWeight[ row][ col - 1]))\n            \n            if col < number_of_cols-1 and worldTableWeight[ row][ col + 1] > 0:\n                graph[ worldTableStateNum[ row][ col]].append( ( worldTableStateNum[ row][ col + 1], worldTableWeight[ row][ col + 1]))\n            \n            if row > 0 and worldTableWeight[ row - 1][ col] > 0:\n                graph[ worldTableStateNum[ row][ col]].append( ( worldTableStateNum[ row - 1][ col], worldTableWeight[ row - 1][ col]))\n            \n            if row < number_of_rows - 1 and worldTableWeight[ row + 1][ col] > 0:\n                graph[ worldTableStateNum[ row][ col]].append( ( worldTableStateNum[ row + 1][ col], worldTableWeight[ row + 1][ col]))\npositions = {}\nfor node in raw_positions:\n    position = raw_positions[ node]\n    positions[ node] = [ position[ 0] / 15.0, position[ 1] / 15.0]\n", 
     "language": "python", 
     "outputs": [], 
     "prompt_number": 38
    }, 
    {
     "cell_type": "markdown", 
     "source": "function **is_goal** checks to see if the goal has been reached.\n\nfunction **euclidean_distance** calculates the distance between two states."
    }, 
    {
     "cell_type": "code", 
     "collapsed": true, 
     "input": "def is_goal( node):\n    global goal\n    return node == goal\n\ndef euclidean_distance( node1, node2):\n    pos1 = raw_positions[ node1]\n    pos2 = raw_positions[ node2]\n    return math.sqrt(( pos1[ 0] - pos2[ 0]) ** 2 + (pos1[ 1] - pos2[ 1]) ** 2)", 
     "language": "python", 
     "outputs": [], 
     "prompt_number": 39
    }, 
    {
     "cell_type": "markdown", 
     "source": "For informed search, we start keeping track of $f(x)$, $g(x)$ and $h(x)$. $g(x)$ is the actual cost from the start to the current node,\nx. $h(x)$ is the estimated cost from the current node x to the goal. $f(x) = g(x) + h(x)$."
    }, 
    {
     "cell_type": "code", 
     "collapsed": true, 
     "input": "def initialize():\n    global explored, fringe\n    explored = []\n    g = 0\n    h = heuristic( start, goal)\n    f = g + h\n    fringe = [(f, g, h, [start])]", 
     "language": "python", 
     "outputs": [], 
     "prompt_number": 40
    }, 
    {
     "cell_type": "markdown", 
     "source": "This is the code for Depth First Search, (essentially, a stack)."
    }, 
    {
     "cell_type": "code", 
     "collapsed": true, 
     "input": "def depth_first_search():\n    global fringe\n    path = fringe[ -1]\n    fringe = fringe[0:-1]\n    return path", 
     "language": "python", 
     "outputs": [], 
     "prompt_number": 41
    }, 
    {
     "cell_type": "markdown", 
     "source": "This is the code for Breadth First Search, essentially a queue."
    }, 
    {
     "cell_type": "code", 
     "collapsed": true, 
     "input": "def breadth_frist_search():\n    global fringe\n    path = fringe[ 0]\n    fringe = fringe[1:]\n    return path", 
     "language": "python", 
     "outputs": [], 
     "prompt_number": 42
    }, 
    {
     "cell_type": "markdown", 
     "source": "Add a new node to the fringe of an informed search.  If the node already exists in the fringe and the cost of the node in the fringe is lower, then do not add the new node to the fridge, otherwise delete the node from the fringe and add the new node."
    }, 
    {
     "cell_type": "code", 
     "collapsed": true, 
     "input": "def add_fringe_informed(new_node, action):\n    global fringe, COST, G_OF_X, PATH\n    \n    for i in range(0, len(fringe)):\n        if fringe[i][PATH][-1] == action:\n            if new_node[ G_OF_X] < fringe[ i][ G_OF_X]:\n                del fringe[ i]\n                break\n            else:\n                return None\n\n    for i in range(0, len(fringe)):\n        if new_node[COST] < fringe[i][COST]:\n            fringe.insert( i, new_node);\n            return None\n        \n    fringe.append(new_node)\n\n    return None        ", 
     "language": "python", 
     "outputs": [], 
     "prompt_number": 43
    }, 
    {
     "cell_type": "markdown", 
     "source": "One iteration of an informed search.  Depending on the value of **COST** either a **Greedy**, **A star** or **UCS** search is executed."
    }, 
    {
     "cell_type": "code", 
     "collapsed": true, 
     "input": "def informed_search():\n    global fringe, explored\n    \n    if len( fringe) == 0: \n        return None\n    \n    f, g, h, current_path = fringe[ 0]\n    fringe = fringe[1:]\n\n    last_state = current_path[ -1]\n    explored.append( last_state)\n    if is_goal( last_state): \n        return [ current_path, g]\n    \n    for action in graph[ last_state]:\n        if not action[0] in explored:\n    \n            new_path = list( current_path)\n            new_g = g + action[1]\n            new_h = heuristic( action[0], goal)\n            new_f = new_g + new_h\n\n            new_path.append( action[0])\n            \n            new_item = ( new_f, new_g, new_h, new_path)\n                \n            if is_goal(action[0]): \n                return [ new_path, new_g]\n            \n            add_fringe_informed(new_item, action[0])\n \n\n    return None", 
     "language": "python", 
     "outputs": [], 
     "prompt_number": 44
    }, 
    {
     "cell_type": "markdown", 
     "source": "Add a new node to the fringe. \nIf the node already exists in the fringe, keep the node with the least nodes in its path.\nThen place the winning node at the end of the fridge so that the depth first search algorithm pulls\nit off the list early."
    }, 
    {
     "cell_type": "code", 
     "collapsed": true, 
     "input": "def add_fringe_depth_search(new_node, action):\n    global fringe, PATH\n    \n    for i in range(0, len(fringe)):\n        if fringe[i][PATH][-1] == action:\n            if len(new_node[ PATH]) < len(fringe[ i][ PATH]):\n                del fringe[ i]\n                break\n            else:\n                new_node = fringe[ i]\n                del fringe[ i]\n                break\n    \n    fringe.append( new_node)\n    \n    return None       ", 
     "language": "python", 
     "outputs": [], 
     "prompt_number": 45
    }, 
    {
     "cell_type": "markdown", 
     "source": "Add a new node to the fringe.\nIf the node already exists in the fringe, keep the node with the least nodes in its path.\nThen place the winning node in where the identical node was found.\nThis allows breadth first to pull the node earlier."
    }, 
    {
     "cell_type": "code", 
     "collapsed": true, 
     "input": "def add_fringe_breadth_search(new_node, action):\n    global fringe, PATH\n    \n    for i in range(0, len(fringe)):\n        if fringe[i][PATH][-1] == action:\n            if len(new_node[ PATH]) < len(fringe[ i][ PATH]):\n                del fringe[ i]\n                fringe.insert( i, new_node)\n                return None\n            else:\n                return None\n    \n    fringe.append( new_node)\n    \n    return None        ", 
     "language": "python", 
     "outputs": [], 
     "prompt_number": 46
    }, 
    {
     "cell_type": "markdown", 
     "source": "One iteration of an uninformed search.  Depending on the value of **pick_from_the_fringe** either a **Depth (stack)** or **Breadth (queue)** search is executed."
    }, 
    {
     "cell_type": "code", 
     "collapsed": true, 
     "input": "def uninformed_search():\n    global fringe, explored, pick_from_the_fringe, add_fringe\n    \n    if len( fringe) == 0: \n        return None\n    \n    f, g, h, current_path = pick_from_the_fringe()\n    \n    last_state = current_path[ -1]\n    explored.append( last_state)\n\n    if is_goal( last_state): \n        return [ current_path, g]\n    \n    for action in graph[ last_state]:\n        if not action[0] in explored:\n    \n            new_path = list( current_path)\n            new_g = g + action[1]\n            new_h = heuristic( action[0], goal)\n            new_f = new_g + new_h\n\n            new_path.append( action[0])\n            \n            new_item = ( new_f, new_g, new_h, new_path)\n\n            if is_goal( action): \n                return [ new_path, new_g]\n            \n            add_fringe( new_item, action[0])\n            \n    return None", 
     "language": "python", 
     "outputs": [], 
     "prompt_number": 47
    }, 
    {
     "cell_type": "markdown", 
     "source": "**Hypothesis:**\n\n**Ranking of the most optimal cost search algorithms:**\n\n1. A Star - This is the most optimal path as it combines the heuristic and the next-node cost. \nThis combination produces a solution path that is complete and optimal.  The pattern of movement of \nthis search is best described as a flock of birds migrating. The algorithm has knowledge of where the goal is\nyet doesn't directly go to it but instead uses a cluster of nodes to move towards the goal.\n\n2. Greedy - This search only uses the heuristic cost.  The heurstic cost is the distance from the next-node to the goal.\nSince this algorithm does not factor in the cost of the next-node, it does not produce a solution path that \nis optimal.  The pattern of movement of this search is best described as direct, like a car going from location \nA to location B, as this search basis it's next moves only with the goal in mind.  Since this search utilizes\nthe least amount of nodes I would expect it to out perform Breadth and Depth, but becuase it doesn't take into account\nthe cost of the next-node, it should not be as efficient as A Star.\n\n3. Breadth -  This search explores the breadth before examining the next level.  It is more likely to produce a \noptimal path over depth first search since it does not descend as deep.  This search is considered blind as it is not \naware of the goal.  The pattern of movement of this search can best be described as the sun, where the light rays \nuniformly expand out in all directions.\n\n4. Depth - This search explores down one path as deep as possbile before working its way back up.  This search\nis considered blind as it has no sense of where the goal is.  This search is also not complete meaning it is possible \nthat no solution path is found even if one exists.\nThis search is more likely to produce a less optimal path especially in a continous environment where there is no\nlimit to the depth.  This search does not consider the cost of the next node but blindly descends as deep as possible.\n\n\n\n\n**Ranking of search algorithms with the least number of nodes explored:**\n\n1. Greedy - This search takes an almost direct path to the goal as it uses the heuristic distance between the node\nand goal.  This search should visit the least amount of nodes given its direct nature.\n\n2. A Star - From the start node to the goal, this algorithm moves in a semi uniformed direction as its guided by\nthe heurstic value that guides it to the goal.\n\n3. Breadth -  This blind search explores the breadth before examining the next level.  Being a blind search and having \nno sense of where the goal is,\nthis algorithm is likely to visit many nodes in a uniform fashion with respect to depth before finding the goal.\n\n4. Depth - This search digs down one path as deep as possbile before working its way back up.  This search is \nmore likely to visit more nodes than necessary before finding the goal."
    }, 
    {
     "cell_type": "code", 
     "collapsed": false, 
     "input": "F_OF_X = 0 #A*\nG_OF_X = 1 #Uniform Cost Search\nH_OF_X = 2 #Greedy\nPATH = 3\n\nheuristic = euclidean_distance\n\nglobal COST\nglobal start\nglobal goal\nglobal pick_from_the_fringe\nglobal add_fringe\n\nresults ={}\nsearch_types = []\n\nsearch_types.append( [ 'A* Search', \n                       None, \n                       F_OF_X, \n                       informed_search,\n                       None\n                     ])\nsearch_types.append( [ 'Greedy Search', \n                       None,\n                       H_OF_X, \n                       informed_search,\n                       None\n                     ])\nsearch_types.append( [ 'Breadth First Search', \n                       breadth_frist_search, \n                       None, \n                       uninformed_search,\n                       add_fringe_breadth_search\n                     ])\nsearch_types.append( [ 'Depth First Search',\n                       depth_first_search,\n                       None,\n                       uninformed_search,\n                       add_fringe_depth_search\n                    ])                   \ntest_count = 30\n\nstarts = [ int( i * state_count) + 1 for i in rand( test_count)]\ngoals  = [ int( i * state_count) + 1 for i in rand( test_count)]\n\nfor i in range( 0, test_count):\n    start = starts[i]\n    goal = goals[i]\n\n    print \"%2s.\" % ( str( i+1)) ,\n    print \"Start: %3s\" % ( str( start)) ,\n    print \"Goal: %s\" % ( str( goal))\n    \n    for search_type in search_types:\n        pick_from_the_fringe = search_type[1]\n        COST = search_type[2]\n        search = search_type[3]\n        add_fringe = search_type[4]\n        \n        initialize()\n        result = None\n        while result == None:\n            result = search()\n            if result:\n                k=0\n                #print search_type[0]\n                #print \"solution = %s\" % ( str(result))\n            elif len(fringe) == 0:\n                print \"No solution was found!\"\n                break\n            \n        if result != None:\n            result_path = result[0]\n            result_cost = result[1]\n            \n            if search_type[0] in results:\n                results[search_type[0]] += np.array( [ len(fringe) + len(explored), result_cost])\n            else:\n                results[search_type[0]] = np.array( [ len(fringe) + len(explored), result_cost])\n\nprint \"--------------\"\nprint \"--------------\"\n\nhtml = \"<table>\"\nhtml += \"<tr> <td></td> <td>Average Nodes</td> <td>Average Path Cost</td> </tr>\"\na_star = results['A* Search']\nfor res in results:\n    avg_nodes     = float( int(100 * float( results[res][0]) / float(a_star[0]))) / 100.0\n    avg_path_cost = float( int(100 * float( results[res][1]) / float(a_star[1]))) / 100.0\n\n    #avg_nodes     = int(float( results[res][0] ) )\n    #avg_path_cost = int(float( results[res][1] ) )\n\n    html += \"<tr> <td>%s</td> <td>%s</td> <td>%s</td> </tr>\" % tuple( [ res, str( avg_nodes), str( avg_path_cost)])\nhtml += \"</table>\"\ndisplay_html( html, raw=True)", 
     "language": "python", 
     "outputs": [
      {
       "output_type": "stream", 
       "stream": "stdout", 
       "text": " 1. Start:  17 Goal: 20\n 2. Start: 264 Goal: 150\n 3. Start: 369 Goal: 327\n 4. Start: 608 Goal: 545\n 5."
      }, 
      {
       "output_type": "stream", 
       "stream": "stdout", 
       "text": " Start: 529 Goal: 357\n 6. Start: 534 Goal: 461\n 7. Start: 311 Goal: 66\n 8."
      }, 
      {
       "output_type": "stream", 
       "stream": "stdout", 
       "text": " Start: 417 Goal: 121\n 9. Start: 160 Goal: 272\n10."
      }, 
      {
       "output_type": "stream", 
       "stream": "stdout", 
       "text": " Start:  66 Goal: 249\n11. Start: 275 Goal: 475\n12."
      }, 
      {
       "output_type": "stream", 
       "stream": "stdout", 
       "text": " Start: 232 Goal: 199\n13. Start: 308 Goal: 305\n14. Start: 397 Goal: 1\n15."
      }, 
      {
       "output_type": "stream", 
       "stream": "stdout", 
       "text": " Start: 377 Goal: 100\n16. Start: 324 Goal: 76\n17."
      }, 
      {
       "output_type": "stream", 
       "stream": "stdout", 
       "text": " Start: 440 Goal: 325\n18. Start: 198 Goal: 159\n19."
      }, 
      {
       "output_type": "stream", 
       "stream": "stdout", 
       "text": " Start: 214 Goal: 251\n20. Start: 574 Goal: 457\n21. Start: 538 Goal: 137\n22."
      }, 
      {
       "output_type": "stream", 
       "stream": "stdout", 
       "text": " Start: 594 Goal: 409\n23. Start: 454 Goal: 522\n24. Start: 385 Goal: 152\n25."
      }, 
      {
       "output_type": "stream", 
       "stream": "stdout", 
       "text": " Start: 141 Goal: 469\n26. Start: 583 Goal: 400\n27."
      }, 
      {
       "output_type": "stream", 
       "stream": "stdout", 
       "text": " Start: 172 Goal: 478\n28. Start: 574 Goal: 563\n29."
      }, 
      {
       "output_type": "stream", 
       "stream": "stdout", 
       "text": " Start: 323 Goal: 561\n30. Start: 554 Goal: 532\n--------------"
      }, 
      {
       "html": "<table><tr> <td></td> <td>Average Nodes</td> <td>Average Path Cost</td> </tr><tr> <td>Greedy Search</td> <td>0.22</td> <td>1.6</td> </tr><tr> <td>Breadth First Search</td> <td>1.48</td> <td>1.47</td> </tr><tr> <td>Depth First Search</td> <td>2.1</td> <td>5.34</td> </tr><tr> <td>A* Search</td> <td>1.0</td> <td>1.0</td> </tr></table>", 
       "output_type": "display_data"
      }, 
      {
       "output_type": "stream", 
       "stream": "stdout", 
       "text": "\n--------------"
      }
     ], 
     "prompt_number": 48
    }, 
    {
     "cell_type": "markdown", 
     "source": "**Results:**\n\n**Ranking of the most optimal cost search algorithms:**\n\n1. A Star - This result met my expectation as this search not only takes into account\nthe cost of the next node but also the heuristic of the next-node distance to the goal.\nThis combination makes the solution path optimal.\n\n2. Breadth -  I was surprised that breadth was more cost efficient than greedy.  Though given how the search expands in \na uniform fashion with respect to depth it explains how this could be true.\nGreedy search takes a more direct path and doesn't take into account \nthe cost of the next-node. Breadth views cost in terms of depth.\nThis means between greedy and depth, the\nsolution path containing the least nodes was more likely to win based on the map\nand start and goal nodes.\n\n3. Greedy - This search is not complete and can potentially not find a path between \ntwo states even though one might exist.  Furthermore it does not take into account the cost of the next-node.\nThis combination can lend itself to a costly solution path.  Please refer to #2 above for \nwhy it did not out perform breadth.\n\n4. Depth - This result met my expectation as it blindly moves as deep as possible before working\nits way back up.  This means the algorithm could take a much more expensive route with a longer solution path.\n\n**Ranking of search algorithms with the least number of nodes explored:**\n\n1. Greedy - This result met my expectation as greedy takes an almost direct path to the goal, which\nminimizes the number of explored nodes.\n\n2. A Star - This result met my expectation as this algorithm moves towards the goal like a cluster of birds.\nThough this algorithm explores more nodes than greedy it does not explore more than breadth and depth as it\nhas a sense of where the goal is.\n\n3. Breadth -  This result met my expectation as it would not visit less nodes than A Star but also not\nas many nodes as depth.  The movement of this algorithm has no sense of where the goal is causing it to\nvisit many nodes.\n\n4. Depth - This result met my expectation as this search has no sense of the goal and descends down as\nfar as possible before working its way back up.  This search can cause many nodes to be explored with\nthis bottom-up approach."
    }
   ]
  }
 ]
}